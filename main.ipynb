{
 "cells": [
  {
   "cell_type": "code",
   "execution_count": 12,
   "metadata": {},
   "outputs": [],
   "source": [
    "import json\n",
    "import csv\n",
    "import matplotlib.pyplot as plt\n",
    "import pandas as pd\n",
    "import numpy as np\n",
    "from scipy.interpolate import RectBivariateSpline"
   ]
  },
  {
   "cell_type": "code",
   "execution_count": 13,
   "metadata": {},
   "outputs": [],
   "source": [
    "with open('data/Tracking_example_data_1.json', 'r') as file:\n",
    "    data = json.load(file)"
   ]
  },
  {
   "cell_type": "markdown",
   "metadata": {},
   "source": [
    "Layout of the data in the sample boat tracking information"
   ]
  },
  {
   "cell_type": "code",
   "execution_count": 14,
   "metadata": {},
   "outputs": [
    {
     "name": "stdout",
     "output_type": "stream",
     "text": [
      "['_lat', '_lon', 'cog', 'sog', 'heading', 'pitch', 'roll', 'wspeed', 'wangle', 'twspeed', 'twangle', 'twdirection', 'vmg']\n",
      "[-41.285089169939866, 174.79663346037051, 72.2, 5.6, 69.9, 2.6, 2.9, 22.08, -67.2, 18.57, -86.2, 345.4, 0.37]\n"
     ]
    }
   ],
   "source": [
    "print(data['schema'])\n",
    "print(data['dframes'][0])"
   ]
  },
  {
   "cell_type": "markdown",
   "metadata": {},
   "source": [
    "For a very basic performance analysis twspeed, twangle, vmg are required"
   ]
  },
  {
   "cell_type": "code",
   "execution_count": 15,
   "metadata": {},
   "outputs": [],
   "source": [
    "minimum_properties = ['twspeed', 'twangle', 'vmg']\n",
    "indices = [data['schema'].index(property) for property in minimum_properties]\n",
    "filtered_dframes = [[row[i] for i in indices] for row in data['dframes']]\n",
    "basic_analysis_data = {\n",
    "    \"schema\": minimum_properties,\n",
    "    \"dframes\": filtered_dframes\n",
    "}"
   ]
  },
  {
   "cell_type": "code",
   "execution_count": 16,
   "metadata": {},
   "outputs": [
    {
     "name": "stdout",
     "output_type": "stream",
     "text": [
      "['twspeed', 'twangle', 'vmg']\n",
      "[18.57, -86.2, 0.37]\n"
     ]
    }
   ],
   "source": [
    "print(basic_analysis_data['schema'])\n",
    "print(basic_analysis_data['dframes'][0])"
   ]
  },
  {
   "cell_type": "markdown",
   "metadata": {},
   "source": [
    "Now, add the specific boat type ORC certified polars (a csv file from https://jieter.github.io/orc-data/site/index.html#AUS/7183)"
   ]
  },
  {
   "cell_type": "code",
   "execution_count": 17,
   "metadata": {},
   "outputs": [
    {
     "name": "stdout",
     "output_type": "stream",
     "text": [
      "    twa/tws     6     8    10    12    14    16     20\n",
      "0       0.0  0.00  0.00  0.00  0.00  0.00  0.00   0.00\n",
      "1      43.0  4.94  0.00  0.00  0.00  0.00  0.00   0.00\n",
      "2      40.6  0.00  5.82  0.00  0.00  0.00  0.00   0.00\n",
      "3      39.0  0.00  0.00  6.41  0.00  0.00  0.00   0.00\n",
      "4      37.8  0.00  0.00  0.00  6.64  0.00  0.00   0.00\n",
      "5      37.6  0.00  0.00  0.00  0.00  6.78  0.00   0.00\n",
      "6      37.6  0.00  0.00  0.00  0.00  0.00  6.87   0.00\n",
      "7      37.8  0.00  0.00  0.00  0.00  0.00  0.00   6.92\n",
      "8      52.0  5.52  6.52  7.11  7.39  7.51  7.58   7.65\n",
      "9      60.0  5.81  6.76  7.28  7.56  7.72  7.80   7.89\n",
      "10     75.0  6.00  6.92  7.42  7.74  7.97  8.14   8.32\n",
      "11     90.0  6.04  7.08  7.50  7.76  8.06  8.33   8.74\n",
      "12    110.0  6.17  7.26  7.81  8.19  8.46  8.71   9.17\n",
      "13    120.0  6.04  7.18  7.78  8.27  8.71  9.10   9.77\n",
      "14    135.0  5.42  6.72  7.50  8.03  8.55  9.11  10.60\n",
      "15    150.0  4.60  5.80  6.79  7.45  7.84  8.20   8.99\n",
      "16    143.9  4.93  0.00  0.00  0.00  0.00  0.00   0.00\n",
      "17    147.3  0.00  5.97  0.00  0.00  0.00  0.00   0.00\n",
      "18    149.2  0.00  0.00  6.85  0.00  0.00  0.00   0.00\n",
      "19    150.5  0.00  0.00  0.00  7.42  0.00  0.00   0.00\n",
      "20    150.2  0.00  0.00  0.00  0.00  7.82  0.00   0.00\n",
      "21    173.0  0.00  0.00  0.00  0.00  0.00  7.27   0.00\n",
      "22    174.8  0.00  0.00  0.00  0.00  0.00  0.00   8.04\n"
     ]
    }
   ],
   "source": [
    "polars_df = pd.read_csv('data/J112E_polars.csv', delimiter=';')\n",
    "print(polars_df)"
   ]
  },
  {
   "cell_type": "markdown",
   "metadata": {},
   "source": [
    "Interpolate or smooth the polar values. It seems like bilinear interpolation (2D grid) would be most suited in this instance as we want to interpolate both across TWA and TWS at the same time.\n",
    "\n",
    "Note. Notice the 0 values in the polars. These should be accounted for before performing interpolation as they should be excluded from the interpolation"
   ]
  },
  {
   "cell_type": "code",
   "execution_count": 18,
   "metadata": {},
   "outputs": [],
   "source": [
    "polars_df.replace(0, np.nan, inplace=True)\n",
    "polars_df.dropna(how='all', inplace=True)"
   ]
  },
  {
   "cell_type": "markdown",
   "metadata": {},
   "source": [
    "Now it is possible to setup this data for the interpolation"
   ]
  },
  {
   "cell_type": "markdown",
   "metadata": {},
   "source": [
    "Setup the 2D grid"
   ]
  },
  {
   "cell_type": "code",
   "execution_count": 19,
   "metadata": {},
   "outputs": [],
   "source": [
    "# Set up TWA and TWS for the grid and extract boat speed data\n",
    "twa = polars_df.columns[1:].astype(float).values\n",
    "tws = polars_df.iloc[1:, 0].astype(float).values\n",
    "boat_speeds = polars_df.iloc[1:, 1:].values.astype(float)\n",
    "boat_speeds[np.isnan(boat_speeds)] = np.nanmean(boat_speeds)\n",
    "\n",
    "# Ensure TWA and TWS are strictly increasing\n",
    "twa, unique_twa_indices = np.unique(twa, return_index=True)\n",
    "tws, unique_tws_indices = np.unique(tws, return_index=True)\n",
    "boat_speeds = boat_speeds[np.ix_(unique_tws_indices, unique_twa_indices)]"
   ]
  },
  {
   "cell_type": "code",
   "execution_count": 20,
   "metadata": {},
   "outputs": [],
   "source": [
    "# Set up RectBivariateSpline for interpolation\n",
    "spline = RectBivariateSpline(tws, twa, boat_speeds)\n",
    "# Interpolate for each TWS and TWA pair in basic analysis data\n",
    "basic_tws = [row[0] for row in basic_analysis_data['dframes']]\n",
    "basic_twa = [row[1] for row in basic_analysis_data['dframes']]\n",
    "interpolated_speeds = spline.ev(basic_tws, basic_twa)"
   ]
  },
  {
   "cell_type": "code",
   "execution_count": 21,
   "metadata": {},
   "outputs": [],
   "source": [
    "# Add the interpolated speeds to the basic analysis data\n",
    "for i, row in enumerate(basic_analysis_data['dframes']):\n",
    "    row.append(interpolated_speeds[i])\n",
    "basic_analysis_data['schema'].append('interpolated_speed')\n",
    "\n",
    "# Create a fine grid for a full interpolated speed display\n",
    "twa_fine = np.linspace(np.min(twa), np.max(twa), 50)\n",
    "tws_fine = np.linspace(np.min(tws), np.max(tws), 50)\n",
    "z_fine = spline(tws_fine, twa_fine)"
   ]
  },
  {
   "cell_type": "code",
   "execution_count": 22,
   "metadata": {},
   "outputs": [
    {
     "name": "stdout",
     "output_type": "stream",
     "text": [
      "Interpolated Speed Grid (rows: TWS, columns: TWA)\n",
      "       6.000000   6.285714   6.571429   6.857143   7.142857   7.428571   \\\n",
      "37.6        7.42       7.44       7.45       7.45       7.45       7.44   \n",
      "40.4        7.43       6.92       6.53       6.26       6.09       6.00   \n",
      "43.2        7.17       5.24       3.93       3.16       2.86       2.94   \n",
      "46.0        6.62       4.81       3.60       2.92       2.69       2.85   \n",
      "48.8        6.01       5.11       4.53       4.24       4.19       4.35   \n",
      "51.6        5.56       5.63       5.72       5.83       5.95       6.09   \n",
      "54.4        5.44       5.93       6.31       6.59       6.79       6.91   \n",
      "57.2        5.59       6.01       6.33       6.58       6.76       6.88   \n",
      "60.0        5.81       5.98       6.14       6.28       6.42       6.54   \n",
      "62.8        5.96       5.97       6.02       6.10       6.20       6.33   \n",
      "65.6        6.04       6.00       6.01       6.06       6.16       6.28   \n",
      "68.4        6.06       6.04       6.07       6.14       6.24       6.36   \n",
      "71.2        6.04       6.10       6.18       6.27       6.38       6.50   \n",
      "74.0        6.01       6.15       6.29       6.42       6.54       6.66   \n",
      "76.8        5.99       6.19       6.37       6.53       6.67       6.79   \n",
      "79.6        5.98       6.22       6.42       6.60       6.74       6.86   \n",
      "82.4        5.99       6.24       6.45       6.63       6.77       6.90   \n",
      "85.2        6.00       6.24       6.45       6.63       6.78       6.90   \n",
      "88.0        6.02       6.25       6.44       6.61       6.76       6.89   \n",
      "90.8        6.05       6.25       6.43       6.59       6.73       6.86   \n",
      "93.6        6.07       6.24       6.41       6.56       6.70       6.83   \n",
      "96.4        6.09       6.24       6.40       6.54       6.68       6.81   \n",
      "99.2        6.10       6.25       6.40       6.54       6.67       6.80   \n",
      "102.0       6.12       6.27       6.41       6.55       6.68       6.81   \n",
      "104.8       6.14       6.29       6.44       6.58       6.72       6.85   \n",
      "107.6       6.16       6.33       6.49       6.65       6.79       6.93   \n",
      "110.4       6.17       6.39       6.58       6.75       6.90       7.04   \n",
      "113.2       6.18       6.44       6.67       6.87       7.03       7.18   \n",
      "116.0       6.17       6.45       6.70       6.91       7.08       7.23   \n",
      "118.8       6.09       6.35       6.57       6.77       6.94       7.08   \n",
      "121.6       5.94       6.08       6.22       6.36       6.50       6.64   \n",
      "124.4       5.74       5.70       5.71       5.76       5.86       5.99   \n",
      "127.2       5.53       5.33       5.24       5.22       5.28       5.41   \n",
      "130.0       5.38       5.14       5.01       4.98       5.04       5.16   \n",
      "132.8       5.34       5.25       5.24       5.28       5.38       5.53   \n",
      "135.6       5.46       5.81       6.11       6.37       6.58       6.76   \n",
      "138.4       5.68       6.63       7.37       7.92       8.30       8.54   \n",
      "141.2       5.62       6.84       7.78       8.47       8.93       9.20   \n",
      "144.0       4.89       5.47       5.96       6.37       6.69       6.95   \n",
      "146.8       6.06       5.46       5.05       4.82       4.73       4.77   \n",
      "149.6       3.86       4.16       4.43       4.67       4.89       5.08   \n",
      "152.4      -0.35       0.21       0.74       1.23       1.69       2.13   \n",
      "155.2      -7.12      -6.06      -5.07      -4.15      -3.29      -2.48   \n",
      "158.0      -9.34      -8.12      -6.98      -5.92      -4.93      -3.99   \n",
      "160.8      -8.18      -7.04      -5.98      -5.00      -4.07      -3.20   \n",
      "163.6      -4.81      -3.92      -3.09      -2.32      -1.59      -0.90   \n",
      "166.4      -0.40       0.17       0.70       1.20       1.66       2.10   \n",
      "169.2       3.89       4.15       4.39       4.61       4.82       5.02   \n",
      "172.0       6.89       6.93       6.96       7.00       7.03       7.06   \n",
      "174.8       7.42       7.42       7.42       7.42       7.42       7.42   \n",
      "\n",
      "       7.714286   8.000000   8.285714   8.571429   ...  17.428571  17.714286  \\\n",
      "37.6        7.43       7.42       7.41       7.40  ...       8.15       8.24   \n",
      "40.4        6.00       6.05       6.16       6.31  ...       7.56       7.57   \n",
      "43.2        3.35       3.99       4.81       5.72  ...       5.96       5.75   \n",
      "46.0        3.31       4.00       4.85       5.79  ...       5.88       5.66   \n",
      "48.8        4.67       5.11       5.64       6.21  ...       6.63       6.51   \n",
      "51.6        6.23       6.38       6.53       6.67  ...       7.52       7.51   \n",
      "54.4        6.98       6.99       6.97       6.93  ...       7.95       7.99   \n",
      "57.2        6.96       6.99       6.99       6.98  ...       7.96       8.00   \n",
      "60.0        6.66       6.76       6.86       6.94  ...       7.83       7.84   \n",
      "62.8        6.47       6.62       6.77       6.93  ...       7.77       7.76   \n",
      "65.6        6.43       6.59       6.77       6.94  ...       7.81       7.79   \n",
      "68.4        6.50       6.65       6.82       6.98  ...       7.92       7.90   \n",
      "71.2        6.63       6.76       6.90       7.03  ...       8.05       8.05   \n",
      "74.0        6.77       6.88       6.98       7.08  ...       8.19       8.20   \n",
      "76.8        6.89       6.98       7.06       7.12  ...       8.29       8.31   \n",
      "79.6        6.96       7.04       7.11       7.16  ...       8.36       8.39   \n",
      "82.4        7.00       7.08       7.14       7.19  ...       8.41       8.44   \n",
      "85.2        7.00       7.09       7.16       7.22  ...       8.44       8.47   \n",
      "88.0        7.00       7.09       7.17       7.23  ...       8.47       8.50   \n",
      "90.8        6.97       7.08       7.17       7.24  ...       8.50       8.53   \n",
      "93.6        6.95       7.06       7.16       7.25  ...       8.55       8.58   \n",
      "96.4        6.93       7.05       7.16       7.26  ...       8.61       8.64   \n",
      "99.2        6.93       7.05       7.16       7.27  ...       8.67       8.70   \n",
      "102.0       6.94       7.06       7.18       7.29  ...       8.73       8.77   \n",
      "104.8       6.98       7.10       7.22       7.33  ...       8.79       8.83   \n",
      "107.6       7.05       7.17       7.28       7.38  ...       8.85       8.88   \n",
      "110.4       7.17       7.28       7.38       7.47  ...       8.89       8.92   \n",
      "113.2       7.30       7.40       7.49       7.56  ...       8.93       8.97   \n",
      "116.0       7.35       7.45       7.53       7.59  ...       9.03       9.06   \n",
      "118.8       7.21       7.32       7.41       7.49  ...       9.22       9.27   \n",
      "121.6       6.78       6.91       7.05       7.18  ...       9.57       9.63   \n",
      "124.4       6.15       6.33       6.53       6.73  ...      10.00      10.09   \n",
      "127.2       5.59       5.81       6.06       6.33  ...      10.36      10.48   \n",
      "130.0       5.35       5.59       5.86       6.15  ...      10.47      10.61   \n",
      "132.8       5.71       5.92       6.15       6.39  ...      10.18      10.31   \n",
      "135.6       6.91       7.04       7.14       7.22  ...       9.33       9.42   \n",
      "138.4       8.64       8.65       8.56       8.42  ...       8.05       8.07   \n",
      "141.2       9.31       9.27       9.13       8.90  ...       7.14       7.12   \n",
      "144.0       7.15       7.29       7.38       7.44  ...       7.47       7.48   \n",
      "146.8       4.92       5.15       5.45       5.79  ...       7.90       7.92   \n",
      "149.6       5.25       5.41       5.55       5.69  ...       9.11       9.23   \n",
      "152.4       2.54       2.94       3.33       3.72  ...      14.60      15.32   \n",
      "155.2      -1.70      -0.95      -0.22       0.49  ...      20.75      22.09   \n",
      "158.0      -3.09      -2.23      -1.39      -0.56  ...      22.64      24.16   \n",
      "160.8      -2.37      -1.56      -0.78      -0.01  ...      21.39      22.78   \n",
      "163.6      -0.25       0.38       0.99       1.59  ...      18.12      19.19   \n",
      "166.4       2.52       2.92       3.31       3.70  ...      13.97      14.63   \n",
      "169.2       5.21       5.39       5.57       5.74  ...      10.06      10.34   \n",
      "172.0       7.09       7.11       7.14       7.17  ...       7.53       7.56   \n",
      "174.8       7.42       7.42       7.42       7.42  ...       7.50       7.53   \n",
      "\n",
      "       18.000000  18.285714  18.571429  18.857143  19.142857  19.428571  \\\n",
      "37.6        8.31       8.34       8.33       8.26       8.15       7.97   \n",
      "40.4        7.59       7.59       7.59       7.58       7.56       7.53   \n",
      "43.2        5.60       5.52       5.53       5.65       5.88       6.25   \n",
      "46.0        5.49       5.41       5.43       5.55       5.81       6.20   \n",
      "48.8        6.42       6.37       6.38       6.46       6.60       6.83   \n",
      "51.6        7.51       7.51       7.51       7.52       7.54       7.56   \n",
      "54.4        8.03       8.05       8.05       8.03       7.99       7.93   \n",
      "57.2        8.03       8.04       8.05       8.03       8.01       7.96   \n",
      "60.0        7.84       7.85       7.85       7.86       7.87       7.87   \n",
      "62.8        7.75       7.75       7.76       7.78       7.80       7.85   \n",
      "65.6        7.78       7.78       7.79       7.81       7.84       7.90   \n",
      "68.4        7.90       7.90       7.90       7.92       7.95       8.00   \n",
      "71.2        8.05       8.05       8.06       8.08       8.10       8.13   \n",
      "74.0        8.21       8.22       8.23       8.24       8.25       8.26   \n",
      "76.8        8.33       8.35       8.36       8.37       8.37       8.38   \n",
      "79.6        8.41       8.43       8.45       8.46       8.46       8.46   \n",
      "82.4        8.46       8.49       8.51       8.52       8.53       8.53   \n",
      "85.2        8.50       8.52       8.55       8.56       8.58       8.59   \n",
      "88.0        8.53       8.56       8.58       8.61       8.63       8.65   \n",
      "90.8        8.56       8.59       8.62       8.65       8.68       8.71   \n",
      "93.6        8.61       8.65       8.68       8.71       8.74       8.78   \n",
      "96.4        8.67       8.71       8.74       8.78       8.81       8.85   \n",
      "99.2        8.74       8.77       8.81       8.84       8.88       8.92   \n",
      "102.0       8.80       8.84       8.87       8.91       8.95       8.99   \n",
      "104.8       8.86       8.90       8.94       8.97       9.01       9.04   \n",
      "107.6       8.92       8.95       8.99       9.02       9.05       9.09   \n",
      "110.4       8.96       8.99       9.02       9.05       9.08       9.11   \n",
      "113.2       9.00       9.03       9.06       9.08       9.11       9.14   \n",
      "116.0       9.09       9.12       9.15       9.18       9.21       9.24   \n",
      "118.8       9.31       9.35       9.38       9.42       9.46       9.50   \n",
      "121.6       9.70       9.76       9.82       9.88       9.94       9.99   \n",
      "124.4      10.19      10.28      10.37      10.46      10.55      10.63   \n",
      "127.2      10.60      10.72      10.83      10.95      11.07      11.19   \n",
      "130.0      10.74      10.88      11.02      11.15      11.29      11.43   \n",
      "132.8      10.44      10.57      10.71      10.84      10.98      11.12   \n",
      "135.6       9.51       9.60       9.70       9.81       9.92      10.03   \n",
      "138.4       8.10       8.13       8.17       8.22       8.28       8.34   \n",
      "141.2       7.10       7.09       7.08       7.08       7.09       7.10   \n",
      "144.0       7.48       7.48       7.48       7.49       7.48       7.48   \n",
      "146.8       7.95       7.97       7.99       8.01       8.03       8.04   \n",
      "149.6       9.33       9.42       9.49       9.53       9.54       9.53   \n",
      "152.4      15.86      16.18      16.26      16.06      15.53      14.65   \n",
      "155.2      23.09      23.69      23.83      23.44      22.45      20.80   \n",
      "158.0      25.30      25.98      26.13      25.67      24.53      22.62   \n",
      "160.8      23.83      24.45      24.57      24.13      23.05      21.28   \n",
      "163.6      19.99      20.46      20.54      20.18      19.33      17.93   \n",
      "166.4      15.12      15.40      15.44      15.20      14.65      13.75   \n",
      "169.2      10.54      10.65      10.66      10.54      10.30       9.90   \n",
      "172.0       7.58       7.59       7.60       7.59       7.58       7.55   \n",
      "174.8       7.57       7.61       7.66       7.72       7.78       7.86   \n",
      "\n",
      "       19.714286  20.000000  \n",
      "37.6        7.73       7.42  \n",
      "40.4        7.48       7.42  \n",
      "43.2        6.77       7.44  \n",
      "46.0        6.76       7.49  \n",
      "48.8        7.14       7.56  \n",
      "51.6        7.60       7.64  \n",
      "54.4        7.84       7.72  \n",
      "57.2        7.89       7.81  \n",
      "60.0        7.88       7.89  \n",
      "62.8        7.90       7.97  \n",
      "65.6        7.96       8.05  \n",
      "68.4        8.06       8.13  \n",
      "71.2        8.17       8.21  \n",
      "74.0        8.28       8.29  \n",
      "76.8        8.38       8.37  \n",
      "79.6        8.46       8.45  \n",
      "82.4        8.53       8.52  \n",
      "85.2        8.60       8.60  \n",
      "88.0        8.67       8.68  \n",
      "90.8        8.74       8.76  \n",
      "93.6        8.81       8.85  \n",
      "96.4        8.89       8.92  \n",
      "99.2        8.96       9.00  \n",
      "102.0       9.02       9.06  \n",
      "104.8       9.08       9.12  \n",
      "107.6       9.12       9.15  \n",
      "110.4       9.14       9.17  \n",
      "113.2       9.17       9.19  \n",
      "116.0       9.27       9.29  \n",
      "118.8       9.54       9.57  \n",
      "121.6      10.05      10.11  \n",
      "124.4      10.72      10.81  \n",
      "127.2      11.31      11.42  \n",
      "130.0      11.57      11.71  \n",
      "132.8      11.26      11.41  \n",
      "135.6      10.15      10.28  \n",
      "138.4       8.42       8.50  \n",
      "141.2       7.13       7.16  \n",
      "144.0       7.48       7.47  \n",
      "146.8       8.05       8.05  \n",
      "149.6       9.48       9.40  \n",
      "152.4      13.39      11.70  \n",
      "155.2      18.43      15.27  \n",
      "158.0      19.89      16.24  \n",
      "160.8      18.73      15.34  \n",
      "163.6      15.93      13.28  \n",
      "166.4      12.48      10.79  \n",
      "169.2       9.34       8.61  \n",
      "172.0       7.51       7.45  \n",
      "174.8       7.95       8.04  \n",
      "\n",
      "[50 rows x 50 columns]\n"
     ]
    }
   ],
   "source": [
    "# Create a DataFrame for the interpolated speed grid\n",
    "df_grid = pd.DataFrame(z_fine, index=tws_fine, columns=twa_fine)\n",
    "# Print the DataFrame with rounded values\n",
    "print(\"Interpolated Speed Grid (rows: TWS, columns: TWA)\")\n",
    "print(df_grid.round(2))"
   ]
  }
 ],
 "metadata": {
  "kernelspec": {
   "display_name": "Python 3",
   "language": "python",
   "name": "python3"
  },
  "language_info": {
   "codemirror_mode": {
    "name": "ipython",
    "version": 3
   },
   "file_extension": ".py",
   "mimetype": "text/x-python",
   "name": "python",
   "nbconvert_exporter": "python",
   "pygments_lexer": "ipython3",
   "version": "3.12.7"
  }
 },
 "nbformat": 4,
 "nbformat_minor": 2
}
